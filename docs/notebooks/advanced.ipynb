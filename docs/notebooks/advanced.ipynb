{
 "cells": [
  {
   "cell_type": "markdown",
   "metadata": {},
   "source": [
    "# Advanced usage\n",
    "\n",
    "In this notebook we will look at some advanced usage of the imageruler.\n",
    "\n",
    "## Ignore schemes\n",
    "\n",
    "By default, the imageruler will ignore certain violations on the edges of large features, as these generally arise from discretization artifacts and are not particularly meaningful. However, we can configure the imageruler to be either more permissive, or more strict.\n",
    "\n",
    "We will study designs that consist of two circular solid features _with a discretization artifact_ separated by a variable gap. First, define a function to construct these and make a plot."
   ]
  },
  {
   "cell_type": "code",
   "execution_count": null,
   "metadata": {},
   "outputs": [],
   "source": [
    "import matplotlib.pyplot as plt\n",
    "import numpy as onp\n",
    "from imageruler import imageruler\n",
    "\n",
    "\n",
    "def separated_circles(\n",
    "    separation_distance: int, include_extra_pixel: bool\n",
    ") -> onp.ndarray:\n",
    "    left_circle = imageruler.kernel_for_length_scale(80)\n",
    "    right_circle = imageruler.kernel_for_length_scale(60)\n",
    "    right_circle = onp.pad(right_circle, ((10, 10), (0, 0)))\n",
    "\n",
    "    circles = onp.concatenate(\n",
    "        [left_circle, onp.zeros((80, separation_distance)), right_circle],\n",
    "        axis=1,\n",
    "    )\n",
    "    circles = onp.pad(circles, ((10, 10), (10, 10))).astype(bool)\n",
    "    if include_extra_pixel:\n",
    "        circles[9, 50] = True\n",
    "    return circles\n",
    "\n",
    "\n",
    "_ = plt.imshow(separated_circles(separation_distance=1, include_extra_pixel=True))"
   ]
  },
  {
   "cell_type": "markdown",
   "metadata": {},
   "source": [
    "Above we see the two circles (with diameters of 80 and 60 pixels, respectively), along with the extra pixel we've added at position `(9, 50)`. Now, let's use the imageruler to measure the minimum width and spacing using the most-strict scheme which does not ignore _any_ violations: `IgnoreScheme.NONE`."
   ]
  },
  {
   "cell_type": "code",
   "execution_count": null,
   "metadata": {},
   "outputs": [],
   "source": [
    "minimum_width, minimum_spacing = imageruler.minimum_length_scale(\n",
    "    x=separated_circles(separation_distance=1, include_extra_pixel=True),\n",
    "    ignore_scheme=imageruler.IgnoreScheme.NONE,\n",
    ")\n",
    "print(\n",
    "    f\"Minimum width and spacing are {minimum_width} and {minimum_spacing}, respectively\"\n",
    ")"
   ]
  },
  {
   "cell_type": "markdown",
   "metadata": {},
   "source": [
    "As we can see, the measured minimum spacing is a single pixel, as we would hope. However, the minimum width is reported as only three pixels---much smaller the 60 pixel value we might expect. At issue here is the extra pixel; let's measure the length scale for the two circles _without_ the extra pixel."
   ]
  },
  {
   "cell_type": "code",
   "execution_count": null,
   "metadata": {},
   "outputs": [],
   "source": [
    "minimum_width, minimum_spacing = imageruler.minimum_length_scale(\n",
    "    x=separated_circles(separation_distance=1, include_extra_pixel=False),\n",
    "    ignore_scheme=imageruler.IgnoreScheme.NONE,\n",
    ")\n",
    "print(\n",
    "    f\"Minimum width and spacing are {minimum_width} and {minimum_spacing}, respectively\"\n",
    ")"
   ]
  },
  {
   "cell_type": "markdown",
   "metadata": {},
   "source": [
    "These are the expected values. In order to obtain these values from the imageruler even for a design that includes an errant pixel, we need to tell the imageruler to ignore certain violations. Let's start with the most permissive scheme, `IgnoreScheme.EDGES`, which ignores violations on the edges of all features."
   ]
  },
  {
   "cell_type": "code",
   "execution_count": null,
   "metadata": {},
   "outputs": [],
   "source": [
    "minimum_width, minimum_spacing = imageruler.minimum_length_scale(\n",
    "    x=separated_circles(separation_distance=1, include_extra_pixel=True),\n",
    "    ignore_scheme=imageruler.IgnoreScheme.EDGES,\n",
    ")\n",
    "print(\n",
    "    f\"Minimum width and spacing are {minimum_width} and {minimum_spacing}, respectively\"\n",
    ")"
   ]
  },
  {
   "cell_type": "markdown",
   "metadata": {},
   "source": [
    "Here, we see that the width is now correctly reported, but we are also over-estimating the spacing. Fortunately, there is a third scheme for ignoring iolations, `IgnoreScheme.LARGE_FEATURE_EDGES_STRICT`, which only ignores violations on the _edges of large features_. This is actually the default choice, so if we simply call `imageruler.minimum_length_scale` without specifying an ignore scheme, this is what we will get."
   ]
  },
  {
   "cell_type": "code",
   "execution_count": null,
   "metadata": {},
   "outputs": [],
   "source": [
    "minimum_width, minimum_spacing = imageruler.minimum_length_scale(\n",
    "    x=separated_circles(separation_distance=1, include_extra_pixel=True),\n",
    ")\n",
    "print(\n",
    "    f\"Minimum width and spacing are {minimum_width} and {minimum_spacing}, respectively\"\n",
    ")"
   ]
  },
  {
   "cell_type": "markdown",
   "metadata": {},
   "source": [
    "These are the values we hoped for."
   ]
  },
  {
   "cell_type": "markdown",
   "metadata": {},
   "source": [
    "## Challenging test cases\n",
    "\n",
    "The various ignore schemes appear quite similar for most designs. However, some designs are problematic, such as checkerboard patterns. Here we show a checkerboard and other test designs, and the measurements reported with different ignore schemes."
   ]
  },
  {
   "cell_type": "code",
   "execution_count": null,
   "metadata": {},
   "outputs": [],
   "source": [
    "x = onp.asarray([[0, 0, 0, 0], [0, 1, 0, 0], [0, 0, 1, 0], [0, 0, 0, 0]])\n",
    "x = onp.kron(x, onp.ones((7, 9))).astype(bool)\n",
    "\n",
    "title_str = \"\"\n",
    "for scheme in imageruler.IgnoreScheme:\n",
    "    min_width, min_spacing = imageruler.minimum_length_scale(x, ignore_scheme=scheme)\n",
    "    title_str += f\"{scheme.name}: {min_width=}, {min_spacing=}\\n\"\n",
    "\n",
    "plt.imshow(x)\n",
    "_ = plt.title(title_str)"
   ]
  },
  {
   "cell_type": "code",
   "execution_count": null,
   "metadata": {},
   "outputs": [],
   "source": [
    "x = onp.asarray([[0, 0, 0, 0], [0, 1, 0, 0], [0, 0, 1, 0], [0, 0, 0, 0]])\n",
    "x = onp.kron(x, onp.ones((7, 9))).astype(bool)\n",
    "x[13, :] = False\n",
    "\n",
    "title_str = \"\"\n",
    "for scheme in imageruler.IgnoreScheme:\n",
    "    min_width, min_spacing = imageruler.minimum_length_scale(x, ignore_scheme=scheme)\n",
    "    title_str += f\"{scheme.name}: {min_width=}, {min_spacing=}\\n\"\n",
    "\n",
    "plt.imshow(x)\n",
    "_ = plt.title(title_str)"
   ]
  },
  {
   "cell_type": "code",
   "execution_count": null,
   "metadata": {},
   "outputs": [],
   "source": [
    "x = onp.asarray([[0, 0, 0, 0], [0, 1, 1, 0], [0, 1, 1, 0], [0, 0, 0, 0]])\n",
    "x = onp.kron(x, onp.ones((10, 10))).astype(bool)\n",
    "\n",
    "title_str = \"\"\n",
    "for scheme in imageruler.IgnoreScheme:\n",
    "    min_width, min_spacing = imageruler.minimum_length_scale(x, ignore_scheme=scheme)\n",
    "    title_str += f\"{scheme.name}: {min_width=}, {min_spacing=}\\n\"\n",
    "\n",
    "plt.imshow(x)\n",
    "_ = plt.title(title_str)"
   ]
  },
  {
   "cell_type": "code",
   "execution_count": null,
   "metadata": {},
   "outputs": [],
   "source": [
    "x = onp.asarray([[0, 1, 1, 1, 0], [1, 1, 1, 1, 1], [1, 1, 1, 1, 1], [1, 1, 1, 1, 1], [0, 1, 1, 1, 0]])\n",
    "x = onp.pad(x, ((3, 3), (3, 3))).astype(bool)\n",
    "x[2, 5] = True\n",
    "\n",
    "title_str = \"\"\n",
    "for scheme in imageruler.IgnoreScheme:\n",
    "    min_width, min_spacing = imageruler.minimum_length_scale(x, ignore_scheme=scheme)\n",
    "    title_str += f\"{scheme.name}: {min_width=}, {min_spacing=}\\n\"\n",
    "\n",
    "plt.imshow(x)\n",
    "_ = plt.title(title_str)"
   ]
  }
 ],
 "metadata": {
  "kernelspec": {
   "display_name": "invrs",
   "language": "python",
   "name": "python3"
  },
  "language_info": {
   "codemirror_mode": {
    "name": "ipython",
    "version": 3
   },
   "file_extension": ".py",
   "mimetype": "text/x-python",
   "name": "python",
   "nbconvert_exporter": "python",
   "pygments_lexer": "ipython3",
   "version": "3.10.12"
  },
  "latex_envs": {
   "LaTeX_envs_menu_present": true,
   "autoclose": false,
   "autocomplete": true,
   "bibliofile": "biblio.bib",
   "cite_by": "apalike",
   "current_citInitial": 1,
   "eqLabelWithNumbers": true,
   "eqNumInitial": 1,
   "hotkeys": {
    "equation": "Ctrl-E",
    "itemize": "Ctrl-I"
   },
   "labels_anchors": false,
   "latex_user_defs": false,
   "report_style_numbering": false,
   "user_envs_cfg": false
  },
  "toc": {
   "base_numbering": 1,
   "nav_menu": {},
   "number_sections": true,
   "sideBar": true,
   "skip_h1_title": false,
   "title_cell": "Table of Contents",
   "title_sidebar": "Contents",
   "toc_cell": false,
   "toc_position": {},
   "toc_section_display": true,
   "toc_window_display": false
  },
  "varInspector": {
   "cols": {
    "lenName": 16,
    "lenType": 16,
    "lenVar": 40
   },
   "kernels_config": {
    "python": {
     "delete_cmd_postfix": "",
     "delete_cmd_prefix": "del ",
     "library": "var_list.py",
     "varRefreshCmd": "print(var_dic_list())"
    },
    "r": {
     "delete_cmd_postfix": ") ",
     "delete_cmd_prefix": "rm(",
     "library": "var_list.r",
     "varRefreshCmd": "cat(var_dic_list()) "
    }
   },
   "types_to_exclude": [
    "module",
    "function",
    "builtin_function_or_method",
    "instance",
    "_Feature"
   ],
   "window_display": false
  }
 },
 "nbformat": 4,
 "nbformat_minor": 2
}
