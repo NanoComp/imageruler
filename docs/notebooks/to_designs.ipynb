{
 "cells": [
  {
   "cell_type": "markdown",
   "metadata": {},
   "source": [
    "# Inverse designs\n",
    "\n",
    "In this notebook we will investigate a complex design created by topology optimization. The specific design is the `Rasmus70nm.csv` file from the RGB metalens problem of the [photonics-opt-testbed repo](https://github.com/NanoComp/photonics-opt-testbed)."
   ]
  },
  {
   "cell_type": "code",
   "execution_count": null,
   "metadata": {},
   "outputs": [],
   "source": [
    "import numpy as onp\n",
    "import matplotlib.pyplot as plt\n",
    "from skimage import measure\n",
    "\n",
    "design = onp.genfromtxt(\"../../reference_designs/Rasmus70nm.csv\", delimiter=\",\")\n",
    "design = design > 0.5  # Binarize\n",
    "design = onp.rot90(design)\n",
    "\n",
    "plt.figure(figsize=(12, 4))\n",
    "ax = plt.subplot(111)\n",
    "im = ax.imshow(1 - design, cmap=\"gray\")\n",
    "im.set_clim([-2, 1])\n",
    "for c in measure.find_contours(design):\n",
    "    ax.plot(c[:, 1], c[:, 0], \"k\")\n",
    "_ = ax.axis(False)"
   ]
  },
  {
   "cell_type": "markdown",
   "metadata": {},
   "source": [
    "Now we'll measure the length scale of solid and void features (i.e. the minimum width and spacing of features) using the imageruler."
   ]
  },
  {
   "cell_type": "code",
   "execution_count": null,
   "metadata": {},
   "outputs": [],
   "source": [
    "import imageruler\n",
    "\n",
    "min_width, min_spacing = imageruler.minimum_length_scale(design)\n",
    "print(f\"Minimum width is {min_width} pixels, minimum spacing is {min_spacing} pixels.\")"
   ]
  },
  {
   "cell_type": "markdown",
   "metadata": {},
   "source": [
    "We find that the minimum width is 7 pixels, which means that we should find violations when checking for length scales greater than 7 pixels. We can identify these violations using the `length_scale_violations_solid` function:"
   ]
  },
  {
   "cell_type": "code",
   "execution_count": null,
   "metadata": {},
   "outputs": [],
   "source": [
    "from scipy import ndimage\n",
    "\n",
    "plt.figure(figsize=(12, 6))\n",
    "for i, dim in enumerate(range(min_width, min_width + 3)):\n",
    "    width_violations = imageruler.length_scale_violations_solid(\n",
    "        design, length_scale=dim\n",
    "    )\n",
    "    width_violations = ndimage.binary_dilation(width_violations, onp.ones((10, 10)))\n",
    "\n",
    "    ax = plt.subplot(3, 1, i + 1)\n",
    "    im = ax.imshow(1 - design, cmap=\"gray\")\n",
    "    im.set_clim([-2, 1])\n",
    "    for c in measure.find_contours(design):\n",
    "        ax.plot(c[:, 1], c[:, 0], \"k\")\n",
    "\n",
    "    for c in measure.find_contours(width_violations):\n",
    "        ax.fill(c[:, 1], c[:, 0], \"r\", alpha=0.5, ec=\"r\")\n",
    "\n",
    "    ax.set_title(f\"Violations for solid length scale = {dim}\")\n",
    "    ax.axis(False)"
   ]
  },
  {
   "cell_type": "markdown",
   "metadata": {},
   "source": [
    "And similarly, we can find void length scale violations:"
   ]
  },
  {
   "cell_type": "code",
   "execution_count": null,
   "metadata": {},
   "outputs": [],
   "source": [
    "plt.figure(figsize=(12, 6))\n",
    "for i, dim in enumerate(range(min_spacing, min_spacing + 3)):\n",
    "    width_violations = imageruler.length_scale_violations_solid(\n",
    "        ~design, length_scale=dim\n",
    "    )\n",
    "    width_violations = ndimage.binary_dilation(width_violations, onp.ones((10, 10)))\n",
    "\n",
    "    ax = plt.subplot(3, 1, i + 1)\n",
    "    im = ax.imshow(1 - design, cmap=\"gray\")\n",
    "    im.set_clim([-2, 1])\n",
    "    for c in measure.find_contours(design):\n",
    "        ax.plot(c[:, 1], c[:, 0], \"k\")\n",
    "\n",
    "    for c in measure.find_contours(width_violations):\n",
    "        ax.fill(c[:, 1], c[:, 0], \"r\", alpha=0.5, ec=\"r\")\n",
    "\n",
    "    ax.set_title(f\"Violations for void length scale = {dim}\")\n",
    "    ax.axis(False)"
   ]
  }
 ],
 "metadata": {
  "kernelspec": {
   "display_name": "invrs",
   "language": "python",
   "name": "python3"
  },
  "language_info": {
   "codemirror_mode": {
    "name": "ipython",
    "version": 3
   },
   "file_extension": ".py",
   "mimetype": "text/x-python",
   "name": "python",
   "nbconvert_exporter": "python",
   "pygments_lexer": "ipython3",
   "version": "3.10.12"
  },
  "latex_envs": {
   "LaTeX_envs_menu_present": true,
   "autoclose": false,
   "autocomplete": true,
   "bibliofile": "biblio.bib",
   "cite_by": "apalike",
   "current_citInitial": 1,
   "eqLabelWithNumbers": true,
   "eqNumInitial": 1,
   "hotkeys": {
    "equation": "Ctrl-E",
    "itemize": "Ctrl-I"
   },
   "labels_anchors": false,
   "latex_user_defs": false,
   "report_style_numbering": false,
   "user_envs_cfg": false
  },
  "toc": {
   "base_numbering": 1,
   "nav_menu": {},
   "number_sections": true,
   "sideBar": true,
   "skip_h1_title": false,
   "title_cell": "Table of Contents",
   "title_sidebar": "Contents",
   "toc_cell": false,
   "toc_position": {},
   "toc_section_display": true,
   "toc_window_display": false
  },
  "varInspector": {
   "cols": {
    "lenName": 16,
    "lenType": 16,
    "lenVar": 40
   },
   "kernels_config": {
    "python": {
     "delete_cmd_postfix": "",
     "delete_cmd_prefix": "del ",
     "library": "var_list.py",
     "varRefreshCmd": "print(var_dic_list())"
    },
    "r": {
     "delete_cmd_postfix": ") ",
     "delete_cmd_prefix": "rm(",
     "library": "var_list.r",
     "varRefreshCmd": "cat(var_dic_list()) "
    }
   },
   "types_to_exclude": [
    "module",
    "function",
    "builtin_function_or_method",
    "instance",
    "_Feature"
   ],
   "window_display": false
  }
 },
 "nbformat": 4,
 "nbformat_minor": 2
}
