{
 "cells": [
  {
   "cell_type": "markdown",
   "metadata": {},
   "source": [
    "# Imageruler examples"
   ]
  },
  {
   "cell_type": "code",
   "execution_count": null,
   "metadata": {},
   "outputs": [],
   "source": [
    "import numpy as np\n",
    "\n",
    "from imageruler import imageruler\n",
    "from matplotlib import pyplot as plt\n",
    "\n",
    "from imageruler.regular_shapes import (\n",
    "    disc,\n",
    "    rounded_square,\n",
    "    stripe,\n",
    ")  # Import functions that generate regular shapes."
   ]
  },
  {
   "cell_type": "markdown",
   "metadata": {},
   "source": [
    "Examples based on regular 2d shapes are as follows."
   ]
  },
  {
   "cell_type": "code",
   "execution_count": null,
   "metadata": {},
   "outputs": [],
   "source": [
    "resolution = 1  # number of pixels per unit length\n",
    "phys_size = (200, 200)  # physical size of the entire image\n",
    "declared_mls = 50  # declared minimum length scale\n",
    "\n",
    "image = rounded_square(\n",
    "    resolution, phys_size, declared_mls, angle=20\n",
    ")  # generate a rounded square\n",
    "\n",
    "plt.figure()\n",
    "plt.imshow(image)\n",
    "plt.show()\n",
    "\n",
    "solid_mls = imageruler.minimum_length_scale_solid(\n",
    "    image\n",
    ")  # estimate the minimum length scale of the solid region\n",
    "print(\"Declared minimum length scale of the solid region: \", declared_mls)\n",
    "print(\"Estimated minimum length scale of the solid region: \", solid_mls)"
   ]
  },
  {
   "cell_type": "code",
   "execution_count": null,
   "metadata": {},
   "outputs": [],
   "source": [
    "diameter = 50\n",
    "image = disc(resolution, phys_size, diameter)  # generate a disc\n",
    "\n",
    "plt.figure()\n",
    "plt.imshow(image)\n",
    "plt.show()\n",
    "\n",
    "solid_mls = imageruler.minimum_length_scale_solid(\n",
    "    image\n",
    ")  # estimate the minimum length scale of the solid region\n",
    "print(\"Declared minimum length scale of the solid region: \", diameter)\n",
    "print(\"Estimated minimum length scale of the solid region: \", solid_mls)"
   ]
  },
  {
   "cell_type": "code",
   "execution_count": null,
   "metadata": {},
   "outputs": [],
   "source": [
    "outer_diameter, inner_diameter = 120, 50\n",
    "declared_solid_mls, declared_void_mls = (\n",
    "    outer_diameter - inner_diameter\n",
    ") / 2, inner_diameter\n",
    "\n",
    "solid_disc = disc(resolution, phys_size, diameter=outer_diameter)\n",
    "void_disc = disc(resolution, phys_size, diameter=inner_diameter)\n",
    "image = solid_disc ^ void_disc  # ring\n",
    "\n",
    "plt.figure()\n",
    "plt.imshow(image)\n",
    "plt.show()\n",
    "\n",
    "solid_mls, void_mls = imageruler.minimum_length_scale(image)\n",
    "mls = min(solid_mls, void_mls)\n",
    "\n",
    "print(\n",
    "    \"Declared minimum length scale: \",\n",
    "    declared_solid_mls,\n",
    "    \"(solid), \",\n",
    "    declared_void_mls,\n",
    "    \"(void)\",\n",
    ")\n",
    "print(\n",
    "    \"Estimated minimum length scale: \",\n",
    "    solid_mls,\n",
    "    \"(solid), \",\n",
    "    void_mls,\n",
    "    \"(void), \",\n",
    "    mls,\n",
    "    \"(minimum)\",\n",
    ")"
   ]
  },
  {
   "cell_type": "code",
   "execution_count": null,
   "metadata": {},
   "outputs": [],
   "source": [
    "resolution = 1  # number of pixels per unit length\n",
    "phys_size = (400, 400)  # physical size of the entire image\n",
    "\n",
    "outer_diameter, middle_diameter, inner_diameter = 300, 200, 100\n",
    "declared_solid_mls, declared_void_mls = (\n",
    "    outer_diameter - inner_diameter\n",
    ") / 2, inner_diameter\n",
    "\n",
    "outer_solid_disc = disc(resolution, phys_size, diameter=outer_diameter, center=(0, 0))\n",
    "void_disc = disc(resolution, phys_size, diameter=middle_diameter, center=(-20, 0))\n",
    "inner_solid_disc = disc(resolution, phys_size, diameter=inner_diameter, center=(-10, 0))\n",
    "image = outer_solid_disc ^ void_disc ^ inner_solid_disc\n",
    "\n",
    "plt.figure()\n",
    "plt.imshow(image)\n",
    "plt.show()\n",
    "\n",
    "solid_mls, void_mls = imageruler.minimum_length_scale(image)\n",
    "mls = min(solid_mls, void_mls)\n",
    "\n",
    "print(\"Declared minimum length scale: \", 30, \"(solid), \", 40, \"(void)\")\n",
    "print(\n",
    "    \"Estimated minimum length scale: \",\n",
    "    solid_mls,\n",
    "    \"(solid), \",\n",
    "    void_mls,\n",
    "    \"(void), \",\n",
    "    mls,\n",
    "    \"(minimum)\",\n",
    ")"
   ]
  },
  {
   "cell_type": "markdown",
   "metadata": {},
   "source": [
    "The images that illustrate the areas of violation at various probe diameters are shown as follows. The three rows from top to bottom show violations at solid, void, and either region."
   ]
  },
  {
   "cell_type": "code",
   "execution_count": null,
   "metadata": {},
   "outputs": [],
   "source": [
    "diameters = [31, 41, 61, 71, 101]\n",
    "nd = len(diameters)\n",
    "plt.figure(figsize=(20, 12))\n",
    "\n",
    "for idx in range(nd):\n",
    "    plt.subplot(3, nd, idx + 1)\n",
    "    ax = plt.gca()\n",
    "    ax.set_axis_off()\n",
    "    image_violation_solid = imageruler.length_scale_violations_solid(\n",
    "        image, length_scale=diameters[idx]\n",
    "    )\n",
    "    plt.imshow(image_violation_solid)\n",
    "    plt.title(\"probe diameter = \" + str(diameters[idx]))\n",
    "\n",
    "    plt.subplot(3, nd, nd + idx + 1)\n",
    "    ax = plt.gca()\n",
    "    ax.set_axis_off()\n",
    "    image_violation_void = imageruler.length_scale_violations_solid(\n",
    "        ~image, length_scale=diameters[idx]\n",
    "    )\n",
    "    plt.imshow(image_violation_void)\n",
    "\n",
    "    plt.subplot(3, nd, 2 * nd + idx + 1)\n",
    "    ax = plt.gca()\n",
    "    ax.set_axis_off()\n",
    "    image_violation = image_violation_solid | image_violation_void\n",
    "    plt.imshow(image_violation)"
   ]
  },
  {
   "cell_type": "code",
   "execution_count": null,
   "metadata": {},
   "outputs": [],
   "source": [
    "resolution = 50\n",
    "width, height = 6, 4  # size of the binary image\n",
    "phys_size = (width, height)\n",
    "\n",
    "stripe_width = 0.8\n",
    "image = stripe(resolution, phys_size, stripe_width)\n",
    "\n",
    "plt.figure()\n",
    "plt.imshow(\n",
    "    image,\n",
    "    extent=[-phys_size[1] / 2, phys_size[1] / 2, -phys_size[0] / 2, phys_size[0] / 2],\n",
    ")\n",
    "plt.show()\n",
    "\n",
    "solid_mls = imageruler.minimum_length_scale_solid(image)\n",
    "\n",
    "print(\"Declared minimum length scale of the solid region: \", stripe_width)\n",
    "print(\"Estimated minimum length scale of the solid region: \", solid_mls / resolution)"
   ]
  },
  {
   "cell_type": "code",
   "execution_count": null,
   "metadata": {},
   "outputs": [],
   "source": [
    "image = stripe(resolution, phys_size, stripe_width, center=(0, -2)) | stripe(\n",
    "    resolution, phys_size, stripe_width, center=(0, 2)\n",
    ")\n",
    "\n",
    "plt.figure()\n",
    "plt.imshow(\n",
    "    image,\n",
    "    extent=[-phys_size[1] / 2, phys_size[1] / 2, -phys_size[0] / 2, phys_size[0] / 2],\n",
    ")\n",
    "plt.show()\n",
    "\n",
    "# Assume this image is periodic along the horizontal direction, which corresponds to the axis 1.\n",
    "solid_mls = imageruler.minimum_length_scale_solid(image, periodic=(False, True))\n",
    "\n",
    "print(\"Declared minimum length scale of the solid region: \", stripe_width)\n",
    "print(\"Estimated minimum length scale of the solid region: \", solid_mls / resolution)"
   ]
  },
  {
   "cell_type": "code",
   "execution_count": null,
   "metadata": {},
   "outputs": [],
   "source": [
    "stripe_width, intercept, angle = 1, 1 / np.sqrt(2), 0.25 * np.pi\n",
    "image = stripe(resolution, phys_size, stripe_width, center=(intercept, 0), angle=135)\n",
    "\n",
    "plt.figure()\n",
    "plt.imshow(\n",
    "    image,\n",
    "    extent=[-phys_size[1] / 2, phys_size[1] / 2, -phys_size[0] / 2, phys_size[0] / 2],\n",
    ")\n",
    "plt.show()\n",
    "\n",
    "solid_mls = imageruler.minimum_length_scale_solid(image)\n",
    "\n",
    "print(\"Declared minimum length scale of the solid region: \", stripe_width)\n",
    "print(\"Estimated minimum length scale of the solid region: \", solid_mls / resolution)"
   ]
  },
  {
   "cell_type": "markdown",
   "metadata": {},
   "source": [
    "Some tests based on 1d images are as follows."
   ]
  },
  {
   "cell_type": "code",
   "execution_count": null,
   "metadata": {},
   "outputs": [],
   "source": [
    "phys_size = 10.1\n",
    "image = np.sin(np.linspace(0, 100, 101) / 5) > 0.5\n",
    "image = image[:, np.newaxis]\n",
    "resolution = image.size / phys_size\n",
    "\n",
    "plt.plot(np.linspace(-phys_size / 2, phys_size / 2, len(image)), image)\n",
    "\n",
    "solid_mls, void_mls = imageruler.minimum_length_scale(image, periodic=(True, True))\n",
    "print(\n",
    "    \"Estimated minimum length scales: \",\n",
    "    solid_mls / resolution,\n",
    "    \"(solid), \",\n",
    "    void_mls / resolution,\n",
    "    \"(void)\",\n",
    ")\n",
    "\n",
    "# disregard the short void and solid regions at both ends\n",
    "solid_mls, void_mls = imageruler.minimum_length_scale(image)\n",
    "print(\n",
    "    \"Estimated minimum length scales with some end regions disregarded: \",\n",
    "    solid_mls / resolution,\n",
    "    \"(solid), \",\n",
    "    void_mls / resolution,\n",
    "    \"(void)\",\n",
    ")"
   ]
  },
  {
   "cell_type": "markdown",
   "metadata": {},
   "source": [
    "This package can also be used via the command line, which allows you to invoke the function \"minimum_length_solid_void()\" being invoked. The syntax is \"imageruler file\", where \"file\" is a string of the path of the text file that contains the array of the input image. All other arguments of the function take default options."
   ]
  }
 ],
 "metadata": {
  "kernelspec": {
   "display_name": "invrs",
   "language": "python",
   "name": "python3"
  },
  "language_info": {
   "codemirror_mode": {
    "name": "ipython",
    "version": 3
   },
   "file_extension": ".py",
   "mimetype": "text/x-python",
   "name": "python",
   "nbconvert_exporter": "python",
   "pygments_lexer": "ipython3",
   "version": "3.10.12"
  },
  "latex_envs": {
   "LaTeX_envs_menu_present": true,
   "autoclose": false,
   "autocomplete": true,
   "bibliofile": "biblio.bib",
   "cite_by": "apalike",
   "current_citInitial": 1,
   "eqLabelWithNumbers": true,
   "eqNumInitial": 1,
   "hotkeys": {
    "equation": "Ctrl-E",
    "itemize": "Ctrl-I"
   },
   "labels_anchors": false,
   "latex_user_defs": false,
   "report_style_numbering": false,
   "user_envs_cfg": false
  },
  "toc": {
   "base_numbering": 1,
   "nav_menu": {},
   "number_sections": true,
   "sideBar": true,
   "skip_h1_title": false,
   "title_cell": "Table of Contents",
   "title_sidebar": "Contents",
   "toc_cell": false,
   "toc_position": {},
   "toc_section_display": true,
   "toc_window_display": false
  },
  "varInspector": {
   "cols": {
    "lenName": 16,
    "lenType": 16,
    "lenVar": 40
   },
   "kernels_config": {
    "python": {
     "delete_cmd_postfix": "",
     "delete_cmd_prefix": "del ",
     "library": "var_list.py",
     "varRefreshCmd": "print(var_dic_list())"
    },
    "r": {
     "delete_cmd_postfix": ") ",
     "delete_cmd_prefix": "rm(",
     "library": "var_list.r",
     "varRefreshCmd": "cat(var_dic_list()) "
    }
   },
   "types_to_exclude": [
    "module",
    "function",
    "builtin_function_or_method",
    "instance",
    "_Feature"
   ],
   "window_display": false
  }
 },
 "nbformat": 4,
 "nbformat_minor": 2
}
